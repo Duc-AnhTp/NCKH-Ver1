{
 "cells": [
  {
   "cell_type": "code",
   "execution_count": 1,
   "id": "5eaa3dbe",
   "metadata": {},
   "outputs": [
    {
     "name": "stdout",
     "output_type": "stream",
     "text": [
      "Epoch   0: MSE =  2.0153, w = 0.1159, b = 0.0240\n",
      "Epoch  10: MSE =  0.0746, w = 0.3213, b = 0.0539\n",
      "Epoch  20: MSE =  0.0722, w = 0.3267, b = 0.0402\n",
      "Epoch  30: MSE =  0.0702, w = 0.3298, b = 0.0264\n",
      "Epoch  40: MSE =  0.0684, w = 0.3327, b = 0.0132\n",
      "Epoch  50: MSE =  0.0666, w = 0.3355, b = 0.0004\n",
      "Epoch  60: MSE =  0.0650, w = 0.3383, b = -0.0120\n",
      "Epoch  70: MSE =  0.0635, w = 0.3409, b = -0.0240\n",
      "Epoch  80: MSE =  0.0621, w = 0.3434, b = -0.0355\n",
      "Epoch  90: MSE =  0.0608, w = 0.3459, b = -0.0467\n"
     ]
    }
   ],
   "source": [
    "\n",
    "import numpy as np\n",
    "import pandas as pd\n",
    "import matplotlib.pyplot as plt\n",
    "\n",
    "df = pd.read_csv('iris.csv')\n",
    "\n",
    "# chọn 1 cột cần dùng cho hổi quy\n",
    "X = df['petal_length'].values\n",
    "y = df['petal_width'].values\n",
    "\n",
    "#khởi tạo trọng số và siêu tham số\n",
    "w = 0.0\n",
    "b = 0.0\n",
    "lr = 0.01\n",
    "epochs = 100 # số vòng lặp.\n",
    "\n",
    "def compute_mse(y_true, y_pred):\n",
    "    return np.mean((y_true - y_pred) ** 2)\n",
    "\n",
    "mse_history = []\n",
    "\n",
    "for epoch in range(epochs):\n",
    "    y_pred = w * X + b\n",
    "    error = y - y_pred \n",
    "\n",
    "    dw = -2 * np.mean(X * error)\n",
    "    db = -2 * np.mean(error)\n",
    "\n",
    "    w -= lr * dw\n",
    "    b -= lr * db\n",
    "\n",
    "    mse = compute_mse(y, y_pred)\n",
    "    mse_history.append(mse)\n",
    "\n",
    "    if epoch % 10 == 0:\n",
    "        print(f\"Epoch {epoch:3d}: MSE = {mse: .4f}, w = {w:.4f}, b = {b:.4f}\")"
   ]
  },
  {
   "cell_type": "code",
   "execution_count": null,
   "id": "d644eea1",
   "metadata": {},
   "outputs": [],
   "source": []
  },
  {
   "cell_type": "code",
   "execution_count": 2,
   "id": "7fcd5691",
   "metadata": {},
   "outputs": [
    {
     "name": "stdout",
     "output_type": "stream",
     "text": [
      "[np.float64(2.015333333333333), np.float64(0.8680644756207763), np.float64(0.39943393821376183), np.float64(0.20792983053344696), np.float64(0.12959267591382678), np.float64(0.09746876232599365), np.float64(0.08421718665314123), np.float64(0.0786731425110131), np.float64(0.07627741684973098), np.float64(0.07516822507995205), np.float64(0.07458529160580048), np.float64(0.07421814780403299), np.float64(0.07394000611167624), np.float64(0.07369908612434048), np.float64(0.0734742370425739), np.float64(0.07325681586657995), np.float64(0.07304328726243203), np.float64(0.07283220167864812), np.float64(0.0726229613440894), np.float64(0.07241531635650408), np.float64(0.07220915890738866), np.float64(0.07200443925236717), np.float64(0.07180113139698895), np.float64(0.07159921908407747), np.float64(0.07139869007132572), np.float64(0.07119953379425806), np.float64(0.0710017404116265), np.float64(0.0708053004153325), np.float64(0.07061020447087815), np.float64(0.07041644335195621), np.float64(0.07022400791348478), np.float64(0.07003288908034214), np.float64(0.069843077842515), np.float64(0.06965456525286728), np.float64(0.0694673424259805), np.float64(0.06928140053743387), np.float64(0.06909673082326534), np.float64(0.0689133245795083), np.float64(0.06873117316176074), np.float64(0.06855026798476949), np.float64(0.06837060052202225), np.float64(0.06819216230534415), np.float64(0.0680149449244982), np.float64(0.06783894002678854), np.float64(0.06766413931666679), np.float64(0.06749053455534086), np.float64(0.0673181175603868), np.float64(0.06714688020536301), np.float64(0.06697681441942727), np.float64(0.06680791218695623), np.float64(0.06664016554716784), np.float64(0.06647356659374597), np.float64(0.06630810747446776), np.float64(0.06614378039083356), np.float64(0.06598057759769946), np.float64(0.06581849140291204), np.float64(0.06565751416694603), np.float64(0.06549763830254413), np.float64(0.06533885627435936), np.float64(0.06518116059860002), np.float64(0.0650245438426769), np.float64(0.06486899862485293), np.float64(0.06471451761389531), np.float64(0.06456109352872995), np.float64(0.06440871913809831), np.float64(0.06425738726021658), np.float64(0.0641070907624371), np.float64(0.06395782256091234), np.float64(0.06380957562026086), np.float64(0.06366234295323583), np.float64(0.0635161176203956), np.float64(0.06337089272977676), np.float64(0.06322666143656917), np.float64(0.06308341694279339), np.float64(0.06294115249698037), np.float64(0.0627998613938531), np.float64(0.06265953697401062), np.float64(0.06252017262361423), np.float64(0.062381761774075575), np.float64(0.06224429790174729), np.float64(0.06210777452761529), np.float64(0.061972185216993554), np.float64(0.061837523579220836), np.float64(0.061703783267359376), np.float64(0.06157095797789578), np.float64(0.06143904145044399), np.float64(0.061308027467450045), np.float64(0.06117790985389931), np.float64(0.06104868247702517), np.float64(0.06092033924602004), np.float64(0.06079287411174846), np.float64(0.06066628106646173), np.float64(0.06054055414351493), np.float64(0.06041568741708564), np.float64(0.0602916750018946), np.float64(0.06016851105292839), np.float64(0.06004618976516391), np.float64(0.059924705373294834), np.float64(0.05980405215145969), np.float64(0.059684224412972234)]\n"
     ]
    }
   ],
   "source": [
    "print(mse_history)"
   ]
  },
  {
   "cell_type": "code",
   "execution_count": 3,
   "id": "4219314d",
   "metadata": {},
   "outputs": [
    {
     "name": "stdout",
     "output_type": "stream",
     "text": [
      "0.3480558727797392\n"
     ]
    }
   ],
   "source": [
    "print(w)"
   ]
  },
  {
   "cell_type": "code",
   "execution_count": 4,
   "id": "27889ee2",
   "metadata": {},
   "outputs": [
    {
     "name": "stdout",
     "output_type": "stream",
     "text": [
      "Epoch   0: MSE = 2.0153, w = [ 0.01244292 -0.00542384  0.0146457 ], b = 0.0240\n",
      "Epoch  20: MSE = 0.8173, w = [ 0.17596313 -0.07177062  0.21584393], b = 0.4144\n",
      "Epoch  40: MSE = 0.3820, w = [ 0.24268224 -0.09236449  0.31336667], b = 0.6751\n",
      "Epoch  60: MSE = 0.2060, w = [ 0.26626553 -0.09465195  0.36494825], b = 0.8491\n",
      "Epoch  80: MSE = 0.1302, w = [ 0.27054219 -0.09016256  0.39600954], b = 0.9653\n",
      "Epoch 100: MSE = 0.0960, w = [ 0.26615208 -0.08359465  0.41775771], b = 1.0429\n",
      "Epoch 120: MSE = 0.0799, w = [ 0.25788536 -0.07675757  0.43514441], b = 1.0947\n",
      "Epoch 140: MSE = 0.0718, w = [ 0.24792451 -0.07026933  0.45036583], b = 1.1292\n",
      "Epoch 160: MSE = 0.0673, w = [ 0.23728053 -0.06427848  0.46440281], b = 1.1523\n",
      "Epoch 180: MSE = 0.0644, w = [ 0.22643207 -0.05876464  0.47769897], b = 1.1677\n"
     ]
    }
   ],
   "source": [
    "# dự đoán chiều rộng cánh hoa dựa trên chiều dài cánh hoa và chiều rộng đài hoa, chiều dài đài hoa.\n",
    "\n",
    "import numpy as np\n",
    "import pandas as pd\n",
    "import matplotlib.pyplot as plt\n",
    "\n",
    "# 1. Đọc dữ liệu\n",
    "df = pd.read_csv('iris.csv')\n",
    "\n",
    "# 2. Lấy các cột đặc trưng và nhãn\n",
    "X = df[['sepal_length', 'sepal_width', 'petal_length']].values  # (n, 3)\n",
    "y = df['petal_width'].values  # (n, )\n",
    "\n",
    "# 3. Chuẩn hoá dữ liệu (giúp thuật toán hội tụ nhanh hơn)\n",
    "X = (X - X.mean(axis=0)) / X.std(axis=0)\n",
    "\n",
    "# 4. Khởi tạo trọng số và siêu tham số\n",
    "w = np.zeros(X.shape[1])  # 3 trọng số tương ứng 3 đặc trưng\n",
    "b = 0.0\n",
    "lr = 0.01\n",
    "epochs = 200\n",
    "\n",
    "# 5. Hàm tính MSE\n",
    "def compute_mse(y_true, y_pred):\n",
    "    return np.mean((y_true - y_pred) ** 2)\n",
    "\n",
    "# 6. Huấn luyện bằng Gradient Descent\n",
    "mse_history = []\n",
    "\n",
    "for epoch in range(epochs):\n",
    "    y_pred = np.dot(X, w) + b\n",
    "    error = y - y_pred\n",
    "\n",
    "    dw = -2 * np.dot(X.T, error) / len(X)\n",
    "    db = -2 * np.mean(error)\n",
    "\n",
    "    w -= lr * dw\n",
    "    b -= lr * db\n",
    "\n",
    "    mse = compute_mse(y, y_pred)\n",
    "    mse_history.append(mse)\n",
    "\n",
    "    if epoch % 20 == 0:\n",
    "        print(f\"Epoch {epoch:3d}: MSE = {mse:.4f}, w = {w}, b = {b:.4f}\")"
   ]
  },
  {
   "cell_type": "code",
   "execution_count": 5,
   "id": "0335ab4d",
   "metadata": {},
   "outputs": [
    {
     "name": "stdout",
     "output_type": "stream",
     "text": [
      "[ 0.21614994 -0.05390579  0.4898325 ]\n"
     ]
    }
   ],
   "source": [
    "print(w)"
   ]
  }
 ],
 "metadata": {
  "kernelspec": {
   "display_name": "Python 3",
   "language": "python",
   "name": "python3"
  },
  "language_info": {
   "codemirror_mode": {
    "name": "ipython",
    "version": 3
   },
   "file_extension": ".py",
   "mimetype": "text/x-python",
   "name": "python",
   "nbconvert_exporter": "python",
   "pygments_lexer": "ipython3",
   "version": "3.13.1"
  }
 },
 "nbformat": 4,
 "nbformat_minor": 5
}
